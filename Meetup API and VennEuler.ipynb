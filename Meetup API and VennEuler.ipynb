{
 "metadata": {
  "language": "Julia",
  "name": "",
  "signature": "sha256:a8af435c2cf6a396173a5e9e013dac8a745a8ef09f892cd793d48086d3022140"
 },
 "nbformat": 3,
 "nbformat_minor": 0,
 "worksheets": [
  {
   "cells": [
    {
     "cell_type": "markdown",
     "metadata": {},
     "source": [
      "# VennEuler.jl and the Meetup API\n",
      "\n",
      "** Harlan Harris **\n",
      "\n",
      "** Statistical Programming DC ** \n",
      "\n",
      "** October 23, 2014 **\n",
      "\n",
      "## Table of Contents:\n",
      "\n",
      "1. Demo First!\n",
      "2. Algorithm\n",
      "3. References"
     ]
    },
    {
     "cell_type": "markdown",
     "metadata": {},
     "source": [
      "---------------"
     ]
    },
    {
     "cell_type": "heading",
     "level": 3,
     "metadata": {},
     "source": [
      "Demo!"
     ]
    },
    {
     "cell_type": "code",
     "collapsed": false,
     "input": [
      "# packages to get JSON data from an HTTP API\n",
      "using Requests\n",
      "using JSON"
     ],
     "language": "python",
     "metadata": {},
     "outputs": [],
     "prompt_number": 13
    },
    {
     "cell_type": "code",
     "collapsed": false,
     "input": [
      "# no, I'm not providing my\n",
      "apikey = open(readchomp, \"apikey\");\n",
      "apikey[1:5]\n"
     ],
     "language": "python",
     "metadata": {},
     "outputs": [
      {
       "metadata": {},
       "output_type": "pyout",
       "prompt_number": 2,
       "text": [
        "\"732e2\""
       ]
      }
     ],
     "prompt_number": 2
    },
    {
     "cell_type": "code",
     "collapsed": false,
     "input": [
      "# functions: getGroupInfo, getMembers, listOfSetsToArray\n",
      "function getGroupInfo(apikey, urlname) \n",
      "    request = \"https://api.meetup.com/2/groups?key=$apikey&sign=true&group_urlname=$urlname\"\n",
      "    ret = get(request)\n",
      "    dat = JSON.parse(ret.data)\n",
      "    dat[\"results\"][1]\n",
      "end\n",
      "gi = getGroupInfo(apikey, \"stats-prog-DC\")"
     ],
     "language": "python",
     "metadata": {},
     "outputs": [
      {
       "metadata": {},
       "output_type": "pyout",
       "prompt_number": 4,
       "text": [
        "Dict{String,Any} with 21 entries:\n",
        "  \"lat\"         => 38.90999984741211\n",
        "  \"visibility\"  => \"public\"\n",
        "  \"who\"         => \"dc-hackeRs\"\n",
        "  \"rating\"      => 4.5\n",
        "  \"link\"        => \"http://www.meetup.com/stats-prog-dc/\"\n",
        "  \"timezone\"    => \"US/Eastern\"\n",
        "  \"lon\"         => -77.0199966430664\n",
        "  \"state\"       => \"DC\"\n",
        "  \"organizer\"   => [\"name\"=>\"Data Community DC\",\"member_id\"=>69461342]\n",
        "  \"name\"        => \"Statistical Programming DC\"\n",
        "  \"urlname\"     => \"stats-prog-dc\"\n",
        "  \"id\"          => 1503964\n",
        "  \"created\"     => 1249911519000\n",
        "  \"topics\"      => {[\"name\"=>\"Open Source\",\"urlkey\"=>\"opensource\",\"id\"=>563],[\"\u2026\n",
        "  \"description\" => \"<p>The DC Area R Users group has become <strong>Statistical\u2026\n",
        "  \"country\"     => \"US\"\n",
        "  \"join_mode\"   => \"open\"\n",
        "  \"members\"     => 2070\n",
        "  \"category\"    => [\"shortname\"=>\"tech\",\"name\"=>\"tech\",\"id\"=>34]\n",
        "  \"city\"        => \"Washington\"\n",
        "  \"group_photo\" => [\"thumb_link\"=>\"http://photos1.meetupstatic.com/photos/event\u2026"
       ]
      }
     ],
     "prompt_number": 4
    },
    {
     "cell_type": "code",
     "collapsed": false,
     "input": [
      "function getMembers(apikey, group_id, memberCt; verbose=true)\n",
      "    chunksize = 200 \n",
      "    memberIds = Array(Int,0)\n",
      "    if verbose print(group_id) end\n",
      "    for page in 0:ifloor(memberCt/chunksize)\n",
      "        request = \"https://api.meetup.com/2/members?key=$apikey&sign=true&group_id=$group_id&page=$chunksize&offset=$page&only=id\"\n",
      "        ret = get(request)\n",
      "        dat = JSON.parse(ret.data)\n",
      "        if verbose print('.') end\n",
      "        for x in dat[\"results\"]\n",
      "            push!(memberIds, x[\"id\"])\n",
      "        end\n",
      "    end\n",
      "    if verbose println() end\n",
      "    memberIds\n",
      "end\n",
      "member_ids = getMembers(apikey, gi[\"id\"], gi[\"members\"])\n",
      "member_ids[1:20]"
     ],
     "language": "python",
     "metadata": {},
     "outputs": [
      {
       "output_type": "stream",
       "stream": "stdout",
       "text": [
        "1503964"
       ]
      },
      {
       "output_type": "stream",
       "stream": "stdout",
       "text": [
        "."
       ]
      },
      {
       "output_type": "stream",
       "stream": "stdout",
       "text": [
        "."
       ]
      },
      {
       "output_type": "stream",
       "stream": "stdout",
       "text": [
        "."
       ]
      },
      {
       "output_type": "stream",
       "stream": "stdout",
       "text": [
        "."
       ]
      },
      {
       "output_type": "stream",
       "stream": "stdout",
       "text": [
        "."
       ]
      },
      {
       "output_type": "stream",
       "stream": "stdout",
       "text": [
        "."
       ]
      },
      {
       "output_type": "stream",
       "stream": "stdout",
       "text": [
        "."
       ]
      },
      {
       "output_type": "stream",
       "stream": "stdout",
       "text": [
        "."
       ]
      },
      {
       "output_type": "stream",
       "stream": "stdout",
       "text": [
        "."
       ]
      },
      {
       "output_type": "stream",
       "stream": "stdout",
       "text": [
        "."
       ]
      },
      {
       "output_type": "stream",
       "stream": "stdout",
       "text": [
        ".\n"
       ]
      },
      {
       "metadata": {},
       "output_type": "pyout",
       "prompt_number": 5,
       "text": [
        "20-element Array{Int64,1}:\n",
        "   9042718\n",
        " 126079712\n",
        "  18800821\n",
        "  52767982\n",
        "  13617288\n",
        "  53551712\n",
        "   9788971\n",
        "  11793079\n",
        "  10903209\n",
        "  49594582\n",
        "   8783792\n",
        "  45403702\n",
        " 174018832\n",
        "  25039192\n",
        "  25168992\n",
        "   5725085\n",
        "   4192734\n",
        "  14190659\n",
        "  69315702\n",
        "  68982492"
       ]
      }
     ],
     "prompt_number": 5
    },
    {
     "cell_type": "code",
     "collapsed": false,
     "input": [
      "# great, seems to work, now get all the members for relevant Meetups, storing as a dict of sets\n",
      "group_names = [\"stats-prog-dc\", \"data-science-dc\", \"DCPython\", \"DC-Hack-and-Tell\", \"code-for-dc\", \"hack-edu\"]\n",
      "group_members_struct = Dict()\n",
      "for grname in group_names\n",
      "    gi = getGroupInfo(apikey, grname)\n",
      "    group_members_struct[grname] = \n",
      "        Set(getMembers(apikey, gi[\"id\"], gi[\"members\"])...)\n",
      "end\n",
      "group_members_struct"
     ],
     "language": "python",
     "metadata": {},
     "outputs": [
      {
       "output_type": "stream",
       "stream": "stdout",
       "text": [
        "1503964"
       ]
      },
      {
       "output_type": "stream",
       "stream": "stdout",
       "text": [
        "."
       ]
      },
      {
       "output_type": "stream",
       "stream": "stdout",
       "text": [
        "."
       ]
      },
      {
       "output_type": "stream",
       "stream": "stdout",
       "text": [
        "."
       ]
      },
      {
       "output_type": "stream",
       "stream": "stdout",
       "text": [
        "."
       ]
      },
      {
       "output_type": "stream",
       "stream": "stdout",
       "text": [
        "."
       ]
      },
      {
       "output_type": "stream",
       "stream": "stdout",
       "text": [
        "."
       ]
      },
      {
       "output_type": "stream",
       "stream": "stdout",
       "text": [
        "."
       ]
      },
      {
       "output_type": "stream",
       "stream": "stdout",
       "text": [
        "."
       ]
      },
      {
       "output_type": "stream",
       "stream": "stdout",
       "text": [
        "."
       ]
      },
      {
       "output_type": "stream",
       "stream": "stdout",
       "text": [
        "."
       ]
      },
      {
       "output_type": "stream",
       "stream": "stdout",
       "text": [
        ".\n"
       ]
      },
      {
       "output_type": "stream",
       "stream": "stdout",
       "text": [
        "2215331"
       ]
      },
      {
       "output_type": "stream",
       "stream": "stdout",
       "text": [
        "."
       ]
      },
      {
       "output_type": "stream",
       "stream": "stdout",
       "text": [
        "."
       ]
      },
      {
       "output_type": "stream",
       "stream": "stdout",
       "text": [
        "."
       ]
      },
      {
       "output_type": "stream",
       "stream": "stdout",
       "text": [
        "."
       ]
      },
      {
       "output_type": "stream",
       "stream": "stdout",
       "text": [
        "."
       ]
      },
      {
       "output_type": "stream",
       "stream": "stdout",
       "text": [
        "."
       ]
      },
      {
       "output_type": "stream",
       "stream": "stdout",
       "text": [
        "."
       ]
      },
      {
       "output_type": "stream",
       "stream": "stdout",
       "text": [
        "."
       ]
      },
      {
       "output_type": "stream",
       "stream": "stdout",
       "text": [
        "."
       ]
      },
      {
       "output_type": "stream",
       "stream": "stdout",
       "text": [
        "."
       ]
      },
      {
       "output_type": "stream",
       "stream": "stdout",
       "text": [
        "."
       ]
      },
      {
       "output_type": "stream",
       "stream": "stdout",
       "text": [
        "."
       ]
      },
      {
       "output_type": "stream",
       "stream": "stdout",
       "text": [
        "."
       ]
      },
      {
       "output_type": "stream",
       "stream": "stdout",
       "text": [
        "."
       ]
      },
      {
       "output_type": "stream",
       "stream": "stdout",
       "text": [
        "."
       ]
      },
      {
       "output_type": "stream",
       "stream": "stdout",
       "text": [
        "."
       ]
      },
      {
       "output_type": "stream",
       "stream": "stdout",
       "text": [
        "."
       ]
      },
      {
       "output_type": "stream",
       "stream": "stdout",
       "text": [
        "."
       ]
      },
      {
       "output_type": "stream",
       "stream": "stdout",
       "text": [
        "."
       ]
      },
      {
       "output_type": "stream",
       "stream": "stdout",
       "text": [
        "."
       ]
      },
      {
       "output_type": "stream",
       "stream": "stdout",
       "text": [
        "."
       ]
      },
      {
       "output_type": "stream",
       "stream": "stdout",
       "text": [
        ".\n"
       ]
      },
      {
       "output_type": "stream",
       "stream": "stdout",
       "text": [
        "412508"
       ]
      },
      {
       "output_type": "stream",
       "stream": "stdout",
       "text": [
        "."
       ]
      },
      {
       "output_type": "stream",
       "stream": "stdout",
       "text": [
        "."
       ]
      },
      {
       "output_type": "stream",
       "stream": "stdout",
       "text": [
        "."
       ]
      },
      {
       "output_type": "stream",
       "stream": "stdout",
       "text": [
        "."
       ]
      },
      {
       "output_type": "stream",
       "stream": "stdout",
       "text": [
        "."
       ]
      },
      {
       "output_type": "stream",
       "stream": "stdout",
       "text": [
        "."
       ]
      },
      {
       "output_type": "stream",
       "stream": "stdout",
       "text": [
        "."
       ]
      },
      {
       "output_type": "stream",
       "stream": "stdout",
       "text": [
        "."
       ]
      },
      {
       "output_type": "stream",
       "stream": "stdout",
       "text": [
        "."
       ]
      },
      {
       "output_type": "stream",
       "stream": "stdout",
       "text": [
        "."
       ]
      },
      {
       "output_type": "stream",
       "stream": "stdout",
       "text": [
        ".\n"
       ]
      },
      {
       "output_type": "stream",
       "stream": "stdout",
       "text": [
        "7361532"
       ]
      },
      {
       "output_type": "stream",
       "stream": "stdout",
       "text": [
        "."
       ]
      },
      {
       "output_type": "stream",
       "stream": "stdout",
       "text": [
        ".\n"
       ]
      },
      {
       "output_type": "stream",
       "stream": "stdout",
       "text": [
        "9724492"
       ]
      },
      {
       "output_type": "stream",
       "stream": "stdout",
       "text": [
        "."
       ]
      },
      {
       "output_type": "stream",
       "stream": "stdout",
       "text": [
        "."
       ]
      },
      {
       "output_type": "stream",
       "stream": "stdout",
       "text": [
        "."
       ]
      },
      {
       "output_type": "stream",
       "stream": "stdout",
       "text": [
        "."
       ]
      },
      {
       "output_type": "stream",
       "stream": "stdout",
       "text": [
        ".\n"
       ]
      },
      {
       "output_type": "stream",
       "stream": "stdout",
       "text": [
        "1800681"
       ]
      },
      {
       "output_type": "stream",
       "stream": "stdout",
       "text": [
        "."
       ]
      },
      {
       "output_type": "stream",
       "stream": "stdout",
       "text": [
        ".\n"
       ]
      },
      {
       "metadata": {},
       "output_type": "pyout",
       "prompt_number": 6,
       "text": [
        "Dict{Any,Any} with 6 entries:\n",
        "  \"data-science-dc\"  => Set{Int64}({25940092,2209921,62380632,13049952,71267812\u2026\n",
        "  \"DCPython\"         => Set{Int64}({14144065,100042992,1611067,13184058,2370911\u2026\n",
        "  \"DC-Hack-and-Tell\" => Set{Int64}({8294317,9009918,10814564,13282990,138029572\u2026\n",
        "  \"hack-edu\"         => Set{Int64}({3125661,25940092,86478972,54136702,72680042\u2026\n",
        "  \"stats-prog-dc\"    => Set{Int64}({152363432,108337692,1611067,65378112,982128\u2026\n",
        "  \"code-for-dc\"      => Set{Int64}({87207012,23412601,79967,85232752,118766812,\u2026"
       ]
      }
     ],
     "prompt_number": 6
    },
    {
     "cell_type": "code",
     "collapsed": false,
     "input": [
      "# then convert that dict of sets to a bool matrix\n",
      "everyone = union([v for (k,v) in group_members_struct]...)\n",
      "memb_group = [in(memb, group_members_struct[group]) \n",
      "                for memb in everyone, group in group_names]"
     ],
     "language": "python",
     "metadata": {},
     "outputs": [
      {
       "output_type": "stream",
       "stream": "stdout",
       "text": [
        "elapsed time: 0."
       ]
      },
      {
       "output_type": "stream",
       "stream": "stdout",
       "text": [
        "033266167 seconds (7241472 bytes allocated)\n"
       ]
      },
      {
       "metadata": {},
       "output_type": "pyout",
       "prompt_number": 9,
       "text": [
        "7261x6 Array{Any,2}:\n",
        " false   true  false  false  false   true\n",
        " false  false   true  false  false  false\n",
        " false   true  false  false  false  false\n",
        " false   true  false  false  false  false\n",
        " false   true  false  false  false  false\n",
        " false   true  false  false  false  false\n",
        "  true  false  false  false  false  false\n",
        " false   true  false  false  false  false\n",
        " false   true  false  false  false  false\n",
        " false  false   true  false  false  false\n",
        " false  false   true  false  false  false\n",
        " false   true  false  false  false  false\n",
        " false   true  false  false  false  false\n",
        "     \u22ee                                  \u22ee\n",
        " false   true  false  false  false  false\n",
        " false  false   true  false  false  false\n",
        " false  false   true  false  false  false\n",
        " false   true  false  false  false  false\n",
        " false   true  false  false  false  false\n",
        " false  false   true  false   true  false\n",
        "  true  false  false  false   true  false\n",
        " false  false  false   true  false  false\n",
        "  true  false   true  false  false  false\n",
        " false   true   true  false  false  false\n",
        "  true  false  false  false  false  false\n",
        "  true   true  false  false  false  false"
       ]
      }
     ],
     "prompt_number": 9
    },
    {
     "cell_type": "code",
     "collapsed": false,
     "input": [
      "# and now we're good to make a VennEuler diagram!\n",
      "using VennEuler"
     ],
     "language": "python",
     "metadata": {},
     "outputs": [],
     "prompt_number": 10
    },
    {
     "cell_type": "code",
     "collapsed": false,
     "input": [
      "eo = make_euler_object(group_names, \n",
      "    memb_group, \n",
      "    EulerSpec(:rectangle), # rectangles > circles!\n",
      "    sizesum=.5)            # scaling in unit square\n",
      "\n",
      "(minf,minx,ret) = optimize_iteratively(          # greedy meta-optimization algorithm\n",
      "    eo,                                          # problem we're trying to solve\n",
      "    random_state(eo),                            # where to start\n",
      "    ftol=-1, xtol=0.0025, maxtime=5, pop=100)    # quick 'n dirty\n",
      "\n",
      "(minf,minx,ret) = optimize(eo,                   # global optimization\n",
      "    minx,                                        # start where we left off\n",
      "    ftol=.001, xtol=0.0025, maxtime=20, pop=200) # more horsepower this time...\n",
      "\n",
      "println(\"got $minf at $minx (returned $ret)\")\n"
     ],
     "language": "python",
     "metadata": {},
     "outputs": [
      {
       "output_type": "stream",
       "stream": "stdout",
       "text": [
        "got 0.0071512353631097494 at [0.5336560067577126,0.6311850325565118,0.9829758334878507,0.48800839752832564,0.4949781030758712,0.0014411497946056687,0.40135456310097106,0.5922594123680546,0.9218058049112217,0.618146168155745,0.7326217930358477,0.04384775765966409,0.46241645713249035,0.31980602903597805,0.895140654408797,0.13010148927337709,0.2662814067163181,0.29597435885854884] (returned MAXTIME_REACHED)\n"
       ]
      },
      {
       "output_type": "stream",
       "stream": "stdout",
       "text": [
        "got 0.004293162289409439 at [0.5336560067577126,0.6311850325565118,0.9829758334878507,0.48800839752832564,0.4949781030758712,0.0014411497946056687,0.3256363620056403,0.6743636379943597,0.28646094163514346,0.618146168155745,0.7326217930358477,0.04384775765966409,0.46241645713249035,0.31980602903597805,0.895140654408797,0.13010148927337709,0.2662814067163181,0.29597435885854884] (returned MAXTIME_REACHED)"
       ]
      },
      {
       "output_type": "stream",
       "stream": "stdout",
       "text": [
        "\n",
        "got 0.0017941095931447153 at [0.3243851129516839,0.41285068946094916,0.7930099443948755,0.48800839752832564,0.4949781030758712,0.0014411497946056687,0.3256363620056403,0.6743636379943597,0.28646094163514346,0.618146168155745,0.7326217930358477,0.04384775765966409,0.46241645713249035,0.31980602903597805,0.895140654408797,0.13010148927337709,0.2662814067163181,0.29597435885854884] (returned XTOL_REACHED)"
       ]
      },
      {
       "output_type": "stream",
       "stream": "stdout",
       "text": [
        "\n",
        "got 0.0007594299120876439 at [0.3243851129516839,0.41285068946094916,0.7930099443948755,0.48800839752832564,0.4949781030758712,0.0014411497946056687,0.3256363620056403,0.6743636379943597,0.28646094163514346,0.618146168155745,0.7326217930358477,0.04384775765966409,0.6612298203315016,0.6582076460028731,0.1630366795627467,0.13010148927337709,0.2662814067163181,0.29597435885854884] (returned MAXTIME_REACHED)"
       ]
      },
      {
       "output_type": "stream",
       "stream": "stdout",
       "text": [
        "\n",
        "got 0.0007458343658869047 at [0.3243851129516839,0.41285068946094916,0.7930099443948755,0.48800839752832564,0.4949781030758712,0.0014411497946056687,0.3256363620056403,0.6743636379943597,0.28646094163514346,0.6218192894422917,0.729478560616532,0.019147675546963634,0.6612298203315016,0.6582076460028731,0.1630366795627467,0.13010148927337709,0.2662814067163181,0.29597435885854884] (returned MAXTIME_REACHED)"
       ]
      },
      {
       "output_type": "stream",
       "stream": "stdout",
       "text": [
        "\n",
        "got 0.0006110618609801036 at [0.3243851129516839,0.41285068946094916,0.7930099443948755,0.48800839752832564,0.4949781030758712,0.0014411497946056687,0.3256363620056403,0.6743636379943597,0.28646094163514346,0.6218192894422917,0.729478560616532,0.019147675546963634,0.6612298203315016,0.6582076460028731,0.1630366795627467,0.28407992452475883,0.11221430421471648,0.9302986598890133] (returned MAXTIME_REACHED)"
       ]
      },
      {
       "output_type": "stream",
       "stream": "stdout",
       "text": [
        "\n",
        "got 0.0005192010519228671 at [0.3243851129516839,0.4169346126421053,0.7505931208858376,0.48533535178658194,0.4942171843680849,0.001918352572700585,0.3256363620056403,0.6743636379943597,0.2966647497228959,0.6264862815920365,0.7324563886391671,0.03294171774952639,0.6661467003662784,0.6583695002952532,0.17605625341677256,0.2620664488601154,0.11463322048462818,0.908769355156265] (returned FTOL_REACHED)"
       ]
      },
      {
       "output_type": "stream",
       "stream": "stdout",
       "text": [
        "\n"
       ]
      }
     ],
     "prompt_number": 11
    },
    {
     "cell_type": "code",
     "collapsed": false,
     "input": [
      "render(\"qqqq.svg\", eo, minx)"
     ],
     "language": "python",
     "metadata": {},
     "outputs": [],
     "prompt_number": 12
    },
    {
     "cell_type": "markdown",
     "metadata": {},
     "source": [
      "![Some of my Favorite Meetups](qqqq.svg)"
     ]
    },
    {
     "cell_type": "code",
     "collapsed": false,
     "input": [],
     "language": "python",
     "metadata": {},
     "outputs": []
    }
   ],
   "metadata": {}
  }
 ]
}