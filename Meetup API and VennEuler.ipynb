{
 "metadata": {
  "language": "Julia",
  "name": "",
  "signature": "sha256:c1fa2f6301cb94cd96cb02184bd512afb6fdf922aaf296f5a84ef8594b9c477a"
 },
 "nbformat": 3,
 "nbformat_minor": 0,
 "worksheets": [
  {
   "cells": [
    {
     "cell_type": "markdown",
     "metadata": {},
     "source": [
      "# VennEuler.jl and the Meetup API\n",
      "\n",
      "** Harlan Harris **\n",
      "\n",
      "** Statistical Programming DC ** \n",
      "\n",
      "** October 23, 2014 **\n",
      "\n",
      "## Table of Contents:\n",
      "\n",
      "1. Demo First!\n",
      "2. Algorithm\n",
      "3. References"
     ]
    },
    {
     "cell_type": "markdown",
     "metadata": {},
     "source": [
      "---------------"
     ]
    },
    {
     "cell_type": "heading",
     "level": 3,
     "metadata": {},
     "source": [
      "Demo!"
     ]
    },
    {
     "cell_type": "code",
     "collapsed": false,
     "input": [
      "# packages to get JSON data from an HTTP API\n",
      "using Requests\n",
      "using JSON"
     ],
     "language": "python",
     "metadata": {},
     "outputs": [],
     "prompt_number": 13
    },
    {
     "cell_type": "code",
     "collapsed": false,
     "input": [
      "# no, I'm not providing my Meetup API key -- get your own!\n",
      "apikey = open(readchomp, \"apikey\");\n",
      "apikey[1:5]\n"
     ],
     "language": "python",
     "metadata": {},
     "outputs": [
      {
       "metadata": {},
       "output_type": "pyout",
       "prompt_number": 2,
       "text": [
        "\"732e2\""
       ]
      }
     ],
     "prompt_number": 2
    },
    {
     "cell_type": "code",
     "collapsed": false,
     "input": [
      "# ask the Meetup API for deets about a group\n",
      "function getGroupInfo(apikey, urlname) \n",
      "    request = \"https://api.meetup.com/2/groups?key=$apikey&sign=true&group_urlname=$urlname\"\n",
      "    ret = get(request)\n",
      "    dat = JSON.parse(ret.data)\n",
      "    dat[\"results\"][1]\n",
      "end\n",
      "gi = getGroupInfo(apikey, \"stats-prog-DC\")"
     ],
     "language": "python",
     "metadata": {},
     "outputs": [
      {
       "metadata": {},
       "output_type": "pyout",
       "prompt_number": 4,
       "text": [
        "Dict{String,Any} with 21 entries:\n",
        "  \"lat\"         => 38.90999984741211\n",
        "  \"visibility\"  => \"public\"\n",
        "  \"who\"         => \"dc-hackeRs\"\n",
        "  \"rating\"      => 4.5\n",
        "  \"link\"        => \"http://www.meetup.com/stats-prog-dc/\"\n",
        "  \"timezone\"    => \"US/Eastern\"\n",
        "  \"lon\"         => -77.0199966430664\n",
        "  \"state\"       => \"DC\"\n",
        "  \"organizer\"   => [\"name\"=>\"Data Community DC\",\"member_id\"=>69461342]\n",
        "  \"name\"        => \"Statistical Programming DC\"\n",
        "  \"urlname\"     => \"stats-prog-dc\"\n",
        "  \"id\"          => 1503964\n",
        "  \"created\"     => 1249911519000\n",
        "  \"topics\"      => {[\"name\"=>\"Open Source\",\"urlkey\"=>\"opensource\",\"id\"=>563],[\"\u2026\n",
        "  \"description\" => \"<p>The DC Area R Users group has become <strong>Statistical\u2026\n",
        "  \"country\"     => \"US\"\n",
        "  \"join_mode\"   => \"open\"\n",
        "  \"members\"     => 2070\n",
        "  \"category\"    => [\"shortname\"=>\"tech\",\"name\"=>\"tech\",\"id\"=>34]\n",
        "  \"city\"        => \"Washington\"\n",
        "  \"group_photo\" => [\"thumb_link\"=>\"http://photos1.meetupstatic.com/photos/event\u2026"
       ]
      }
     ],
     "prompt_number": 4
    },
    {
     "cell_type": "code",
     "collapsed": false,
     "input": [
      "# ask the Meetup API for Member IDs from a group\n",
      "# requires chunked requests (a better way would be to use the \"next\" field in the response)\n",
      "function getMembers(apikey, group_id, memberCt; verbose=true)\n",
      "    chunksize = 200 \n",
      "    memberIds = Array(Int,0)\n",
      "    if verbose print(group_id) end\n",
      "    for page in 0:ifloor(memberCt/chunksize)\n",
      "        request = \"https://api.meetup.com/2/members?key=$apikey&sign=true&group_id=$group_id&page=$chunksize&offset=$page&only=id\"\n",
      "        ret = get(request)\n",
      "        dat = JSON.parse(ret.data)\n",
      "        if verbose print('.') end\n",
      "        for x in dat[\"results\"]\n",
      "            push!(memberIds, x[\"id\"])\n",
      "        end\n",
      "    end\n",
      "    if verbose println() end\n",
      "    memberIds\n",
      "end\n",
      "member_ids = getMembers(apikey, gi[\"id\"], gi[\"members\"])\n",
      "member_ids[1:20]"
     ],
     "language": "python",
     "metadata": {},
     "outputs": [
      {
       "output_type": "stream",
       "stream": "stdout",
       "text": [
        "1503964"
       ]
      },
      {
       "output_type": "stream",
       "stream": "stdout",
       "text": [
        "."
       ]
      },
      {
       "output_type": "stream",
       "stream": "stdout",
       "text": [
        "."
       ]
      },
      {
       "output_type": "stream",
       "stream": "stdout",
       "text": [
        "."
       ]
      },
      {
       "output_type": "stream",
       "stream": "stdout",
       "text": [
        "."
       ]
      },
      {
       "output_type": "stream",
       "stream": "stdout",
       "text": [
        "."
       ]
      },
      {
       "output_type": "stream",
       "stream": "stdout",
       "text": [
        "."
       ]
      },
      {
       "output_type": "stream",
       "stream": "stdout",
       "text": [
        "."
       ]
      },
      {
       "output_type": "stream",
       "stream": "stdout",
       "text": [
        "."
       ]
      },
      {
       "output_type": "stream",
       "stream": "stdout",
       "text": [
        "."
       ]
      },
      {
       "output_type": "stream",
       "stream": "stdout",
       "text": [
        "."
       ]
      },
      {
       "output_type": "stream",
       "stream": "stdout",
       "text": [
        ".\n"
       ]
      },
      {
       "metadata": {},
       "output_type": "pyout",
       "prompt_number": 5,
       "text": [
        "20-element Array{Int64,1}:\n",
        "   9042718\n",
        " 126079712\n",
        "  18800821\n",
        "  52767982\n",
        "  13617288\n",
        "  53551712\n",
        "   9788971\n",
        "  11793079\n",
        "  10903209\n",
        "  49594582\n",
        "   8783792\n",
        "  45403702\n",
        " 174018832\n",
        "  25039192\n",
        "  25168992\n",
        "   5725085\n",
        "   4192734\n",
        "  14190659\n",
        "  69315702\n",
        "  68982492"
       ]
      }
     ],
     "prompt_number": 5
    },
    {
     "cell_type": "code",
     "collapsed": false,
     "input": [
      "# great, seems to work, now get all the members for relevant Meetups, storing as a dict of sets\n",
      "group_names = [\"stats-prog-dc\", \"data-science-dc\", \"DCPython\", \"DC-Hack-and-Tell\", \"code-for-dc\", \"hack-edu\"]\n",
      "group_members_struct = Dict()\n",
      "for grname in group_names\n",
      "    gi = getGroupInfo(apikey, grname)\n",
      "    group_members_struct[grname] = \n",
      "        Set(getMembers(apikey, gi[\"id\"], gi[\"members\"])...)\n",
      "end\n",
      "group_members_struct"
     ],
     "language": "python",
     "metadata": {},
     "outputs": [
      {
       "output_type": "stream",
       "stream": "stdout",
       "text": [
        "1503964"
       ]
      },
      {
       "output_type": "stream",
       "stream": "stdout",
       "text": [
        "."
       ]
      },
      {
       "output_type": "stream",
       "stream": "stdout",
       "text": [
        "."
       ]
      },
      {
       "output_type": "stream",
       "stream": "stdout",
       "text": [
        "."
       ]
      },
      {
       "output_type": "stream",
       "stream": "stdout",
       "text": [
        "."
       ]
      },
      {
       "output_type": "stream",
       "stream": "stdout",
       "text": [
        "."
       ]
      },
      {
       "output_type": "stream",
       "stream": "stdout",
       "text": [
        "."
       ]
      },
      {
       "output_type": "stream",
       "stream": "stdout",
       "text": [
        "."
       ]
      },
      {
       "output_type": "stream",
       "stream": "stdout",
       "text": [
        "."
       ]
      },
      {
       "output_type": "stream",
       "stream": "stdout",
       "text": [
        "."
       ]
      },
      {
       "output_type": "stream",
       "stream": "stdout",
       "text": [
        "."
       ]
      },
      {
       "output_type": "stream",
       "stream": "stdout",
       "text": [
        ".\n"
       ]
      },
      {
       "output_type": "stream",
       "stream": "stdout",
       "text": [
        "2215331"
       ]
      },
      {
       "output_type": "stream",
       "stream": "stdout",
       "text": [
        "."
       ]
      },
      {
       "output_type": "stream",
       "stream": "stdout",
       "text": [
        "."
       ]
      },
      {
       "output_type": "stream",
       "stream": "stdout",
       "text": [
        "."
       ]
      },
      {
       "output_type": "stream",
       "stream": "stdout",
       "text": [
        "."
       ]
      },
      {
       "output_type": "stream",
       "stream": "stdout",
       "text": [
        "."
       ]
      },
      {
       "output_type": "stream",
       "stream": "stdout",
       "text": [
        "."
       ]
      },
      {
       "output_type": "stream",
       "stream": "stdout",
       "text": [
        "."
       ]
      },
      {
       "output_type": "stream",
       "stream": "stdout",
       "text": [
        "."
       ]
      },
      {
       "output_type": "stream",
       "stream": "stdout",
       "text": [
        "."
       ]
      },
      {
       "output_type": "stream",
       "stream": "stdout",
       "text": [
        "."
       ]
      },
      {
       "output_type": "stream",
       "stream": "stdout",
       "text": [
        "."
       ]
      },
      {
       "output_type": "stream",
       "stream": "stdout",
       "text": [
        "."
       ]
      },
      {
       "output_type": "stream",
       "stream": "stdout",
       "text": [
        "."
       ]
      },
      {
       "output_type": "stream",
       "stream": "stdout",
       "text": [
        "."
       ]
      },
      {
       "output_type": "stream",
       "stream": "stdout",
       "text": [
        "."
       ]
      },
      {
       "output_type": "stream",
       "stream": "stdout",
       "text": [
        "."
       ]
      },
      {
       "output_type": "stream",
       "stream": "stdout",
       "text": [
        "."
       ]
      },
      {
       "output_type": "stream",
       "stream": "stdout",
       "text": [
        "."
       ]
      },
      {
       "output_type": "stream",
       "stream": "stdout",
       "text": [
        "."
       ]
      },
      {
       "output_type": "stream",
       "stream": "stdout",
       "text": [
        "."
       ]
      },
      {
       "output_type": "stream",
       "stream": "stdout",
       "text": [
        "."
       ]
      },
      {
       "output_type": "stream",
       "stream": "stdout",
       "text": [
        ".\n"
       ]
      },
      {
       "output_type": "stream",
       "stream": "stdout",
       "text": [
        "412508"
       ]
      },
      {
       "output_type": "stream",
       "stream": "stdout",
       "text": [
        "."
       ]
      },
      {
       "output_type": "stream",
       "stream": "stdout",
       "text": [
        "."
       ]
      },
      {
       "output_type": "stream",
       "stream": "stdout",
       "text": [
        "."
       ]
      },
      {
       "output_type": "stream",
       "stream": "stdout",
       "text": [
        "."
       ]
      },
      {
       "output_type": "stream",
       "stream": "stdout",
       "text": [
        "."
       ]
      },
      {
       "output_type": "stream",
       "stream": "stdout",
       "text": [
        "."
       ]
      },
      {
       "output_type": "stream",
       "stream": "stdout",
       "text": [
        "."
       ]
      },
      {
       "output_type": "stream",
       "stream": "stdout",
       "text": [
        "."
       ]
      },
      {
       "output_type": "stream",
       "stream": "stdout",
       "text": [
        "."
       ]
      },
      {
       "output_type": "stream",
       "stream": "stdout",
       "text": [
        "."
       ]
      },
      {
       "output_type": "stream",
       "stream": "stdout",
       "text": [
        ".\n"
       ]
      },
      {
       "output_type": "stream",
       "stream": "stdout",
       "text": [
        "7361532"
       ]
      },
      {
       "output_type": "stream",
       "stream": "stdout",
       "text": [
        "."
       ]
      },
      {
       "output_type": "stream",
       "stream": "stdout",
       "text": [
        ".\n"
       ]
      },
      {
       "output_type": "stream",
       "stream": "stdout",
       "text": [
        "9724492"
       ]
      },
      {
       "output_type": "stream",
       "stream": "stdout",
       "text": [
        "."
       ]
      },
      {
       "output_type": "stream",
       "stream": "stdout",
       "text": [
        "."
       ]
      },
      {
       "output_type": "stream",
       "stream": "stdout",
       "text": [
        "."
       ]
      },
      {
       "output_type": "stream",
       "stream": "stdout",
       "text": [
        "."
       ]
      },
      {
       "output_type": "stream",
       "stream": "stdout",
       "text": [
        ".\n"
       ]
      },
      {
       "output_type": "stream",
       "stream": "stdout",
       "text": [
        "1800681"
       ]
      },
      {
       "output_type": "stream",
       "stream": "stdout",
       "text": [
        "."
       ]
      },
      {
       "output_type": "stream",
       "stream": "stdout",
       "text": [
        ".\n"
       ]
      },
      {
       "metadata": {},
       "output_type": "pyout",
       "prompt_number": 6,
       "text": [
        "Dict{Any,Any} with 6 entries:\n",
        "  \"data-science-dc\"  => Set{Int64}({25940092,2209921,62380632,13049952,71267812\u2026\n",
        "  \"DCPython\"         => Set{Int64}({14144065,100042992,1611067,13184058,2370911\u2026\n",
        "  \"DC-Hack-and-Tell\" => Set{Int64}({8294317,9009918,10814564,13282990,138029572\u2026\n",
        "  \"hack-edu\"         => Set{Int64}({3125661,25940092,86478972,54136702,72680042\u2026\n",
        "  \"stats-prog-dc\"    => Set{Int64}({152363432,108337692,1611067,65378112,982128\u2026\n",
        "  \"code-for-dc\"      => Set{Int64}({87207012,23412601,79967,85232752,118766812,\u2026"
       ]
      }
     ],
     "prompt_number": 6
    },
    {
     "cell_type": "code",
     "collapsed": false,
     "input": [
      "# then convert that dict of sets to a bool matrix\n",
      "everyone = union([v for (k,v) in group_members_struct]...)\n",
      "memb_group = [in(memb, group_members_struct[group]) \n",
      "                for memb in everyone, group in group_names]"
     ],
     "language": "python",
     "metadata": {},
     "outputs": [
      {
       "output_type": "stream",
       "stream": "stdout",
       "text": [
        "elapsed time: 0."
       ]
      },
      {
       "output_type": "stream",
       "stream": "stdout",
       "text": [
        "033266167 seconds (7241472 bytes allocated)\n"
       ]
      },
      {
       "metadata": {},
       "output_type": "pyout",
       "prompt_number": 9,
       "text": [
        "7261x6 Array{Any,2}:\n",
        " false   true  false  false  false   true\n",
        " false  false   true  false  false  false\n",
        " false   true  false  false  false  false\n",
        " false   true  false  false  false  false\n",
        " false   true  false  false  false  false\n",
        " false   true  false  false  false  false\n",
        "  true  false  false  false  false  false\n",
        " false   true  false  false  false  false\n",
        " false   true  false  false  false  false\n",
        " false  false   true  false  false  false\n",
        " false  false   true  false  false  false\n",
        " false   true  false  false  false  false\n",
        " false   true  false  false  false  false\n",
        "     \u22ee                                  \u22ee\n",
        " false   true  false  false  false  false\n",
        " false  false   true  false  false  false\n",
        " false  false   true  false  false  false\n",
        " false   true  false  false  false  false\n",
        " false   true  false  false  false  false\n",
        " false  false   true  false   true  false\n",
        "  true  false  false  false   true  false\n",
        " false  false  false   true  false  false\n",
        "  true  false   true  false  false  false\n",
        " false   true   true  false  false  false\n",
        "  true  false  false  false  false  false\n",
        "  true   true  false  false  false  false"
       ]
      }
     ],
     "prompt_number": 9
    },
    {
     "cell_type": "code",
     "collapsed": false,
     "input": [
      "# and now we're good to make a VennEuler diagram!\n",
      "using VennEuler"
     ],
     "language": "python",
     "metadata": {},
     "outputs": [],
     "prompt_number": 10
    },
    {
     "cell_type": "code",
     "collapsed": false,
     "input": [
      "eo = make_euler_object(group_names, \n",
      "    memb_group, \n",
      "    EulerSpec(:rectangle),                       # rectangles > circles!\n",
      "    sizesum=.5)                                  # scaling in unit square\n",
      "\n",
      "(minf,minx,ret) = optimize_iteratively(          # greedy meta-optimization algorithm\n",
      "    eo,                                          # problem we're trying to solve\n",
      "    random_state(eo),                            # where to start\n",
      "    ftol=-1, xtol=0.0025, maxtime=5, pop=100)    # quick 'n dirty\n",
      "\n",
      "(minf,minx,ret) = optimize(eo,                   # global optimization\n",
      "    minx,                                        # start where we left off\n",
      "    ftol=.0001, xtol=0.0025, maxtime=20, pop=200) # more horsepower this time...\n",
      "\n",
      "println(\"FINALLY:\\ngot $minf at $minx (returned $ret)\")\n"
     ],
     "language": "python",
     "metadata": {},
     "outputs": [
      {
       "output_type": "stream",
       "stream": "stdout",
       "text": [
        "got 0.01363689942664307 at [0.5095103067792307,0.5753631823533256,0.3157976465658947,0.5311123456830171,0.49614037439216735,0.9917949500646697,0.6037426568290358,0.47509841891994997,0.049906201438473685,0.478025448374063,0.7578207512816555,0.30749913405845497,0.7171504493345457,0.4916831948451488,0.9595576519471032,0.22249600641174777,0.42565107388144835,0.5178653823349839] (returned MAXTIME_REACHED)\n"
       ]
      },
      {
       "output_type": "stream",
       "stream": "stdout",
       "text": [
        "got 0.005549028458941071 at [0.5095103067792307,0.5753631823533256,0.3157976465658947,0.5311123456830171,0.49614037439216735,0.9917949500646697,0.6743636379943597,0.6743636379943597,0.015155526034071224,0.478025448374063,0.7578207512816555,0.30749913405845497,0.7171504493345457,0.4916831948451488,0.9595576519471032,0.22249600641174777,0.42565107388144835,0.5178653823349839] (returned MAXTIME_REACHED)"
       ]
      },
      {
       "output_type": "stream",
       "stream": "stdout",
       "text": [
        "\n",
        "got 0.002395121757076317 at [0.4607840917618157,0.5540903995575546,0.22818474515641665,0.5311123456830171,0.49614037439216735,0.9917949500646697,0.6743636379943597,0.6743636379943597,0.015155526034071224,0.478025448374063,0.7578207512816555,0.30749913405845497,0.7171504493345457,0.4916831948451488,0.9595576519471032,0.22249600641174777,0.42565107388144835,0.5178653823349839] (returned MAXTIME_REACHED)"
       ]
      },
      {
       "output_type": "stream",
       "stream": "stdout",
       "text": [
        "\n",
        "got 0.0011202868032010446 at [0.4607840917618157,0.5540903995575546,0.22818474515641665,0.5311123456830171,0.49614037439216735,0.9917949500646697,0.6743636379943597,0.6743636379943597,0.015155526034071224,0.478025448374063,0.7578207512816555,0.30749913405845497,0.36194090954626273,0.735712774925863,0.4438316201042223,0.22249600641174777,0.42565107388144835,0.5178653823349839] (returned MAXTIME_REACHED)"
       ]
      },
      {
       "output_type": "stream",
       "stream": "stdout",
       "text": [
        "\n",
        "got 0.0009794518181447417 at [0.4607840917618157,0.5540903995575546,0.22818474515641665,0.5311123456830171,0.49614037439216735,0.9917949500646697,0.6743636379943597,0.6743636379943597,0.015155526034071224,0.4373606386243081,0.6756170983084377,0.0,0.36194090954626273,0.735712774925863,0.4438316201042223,0.22249600641174777,0.42565107388144835,0.5178653823349839] (returned MAXTIME_REACHED)"
       ]
      },
      {
       "output_type": "stream",
       "stream": "stdout",
       "text": [
        "\n",
        "got 0.0009619505548262692 at [0.4607840917618157,0.5540903995575546,0.22818474515641665,0.5311123456830171,0.49614037439216735,0.9917949500646697,0.6743636379943597,0.6743636379943597,0.015155526034071224,0.4373606386243081,0.6756170983084377,0.0,0.36194090954626273,0.735712774925863,0.4438316201042223,0.16771290844670125,0.6325178118789012,0.05490636792682664] (returned XTOL_REACHED)"
       ]
      },
      {
       "output_type": "stream",
       "stream": "stdout",
       "text": [
        "\n",
        "finally:\n",
        "got 0.0009377181883757945 at [0.43135111450280306,0.560172333107404,0.29371225857487093,0.5311123456830171,0.48944621257520765,0.9949493514364943,0.6743636379943597,0.6743636379943597,0.013981259533492342,0.38875195021440695,0.6891700229361017,0.0,0.3668907550038094,0.7520254653720762,0.570981923431207,0.12645789887383235,0.6035629885490227,0.03123406708496602] (returned FTOL_REACHED)"
       ]
      },
      {
       "output_type": "stream",
       "stream": "stdout",
       "text": [
        "\n"
       ]
      }
     ],
     "prompt_number": 18
    },
    {
     "cell_type": "code",
     "collapsed": false,
     "input": [
      "render(\"qqqq3.svg\", eo, minx)"
     ],
     "language": "python",
     "metadata": {},
     "outputs": [],
     "prompt_number": 19
    },
    {
     "cell_type": "markdown",
     "metadata": {},
     "source": [
      "![Some of my Favorite Meetups](qqqq3.svg)"
     ]
    },
    {
     "cell_type": "markdown",
     "metadata": {},
     "source": [
      "-----------------\n",
      "\n",
      "## Algorithm\n",
      "\n",
      "Due to Wilkinson (2012). My extension: More shapes.\n",
      "\n",
      "### Venn Diagrams and Euler Diagrams\n",
      "\n",
      "* **Venn**: Show _all possible_ combinations.\n",
      "* **Euler**: Show only _extant_ combinations.\n",
      "* **Area-proportional Euler**: Areas are _approximately_ proportional.\n",
      "\n",
      "**Nota Bene**: If using circles, can't generally do this perfectly if more than 2 sets! (With 3 sets, power set is $2^n = 8$, with $3 \\cdot (n-1) = 6$ degrees of freedom.) \n",
      "\n",
      "_But_, we can approximate and minimize a cost function!\n",
      "\n",
      "### Cost Function\n",
      "\n",
      "1. Suppose we have (for circles) X, Y, R for each set.\n",
      "2. Plot 'em on a virtual screen -- boolean 2-D array per set.\n",
      "3. Iterate over the powerset and compute overlapping pixels with logical AND.\n",
      "4. Normalize and compare with actual overlap seen in the data.\n",
      "5. Cost is squared mismatch in overlap.\n",
      "\n",
      "**Cool bit**: This works with any shape we can plot. No need for a fancy-pants geometric overlap algorithm.\n",
      "\n",
      "**Less cool bits**: There's some error if the virtual screen's too small. I use 200px square, which is good enough to be a smaller issue than the inadequate DoF problem.\n",
      "\n",
      "### Optimization\n",
      "\n",
      "1. Non-convex; not super-fast evaluation, so use global optimization.\n",
      "2. Using _Controlled Random Search (CRS) with local mutation_, from `NLopt`, an open-source nonlinear optimization package out of MIT, with a Julia wrapper.\n",
      "\n",
      "**Improvements to do**: Wilkinson uses a force-directed layout algorithm to approximate an initial state, which is clever. \n",
      "\n",
      "### Other Features\n",
      "\n",
      "1. Lock one or more sets into place. (E.g., target set in the center.)\n",
      "2. Use all-the-same or specific shapes per set.\n",
      "\n"
     ]
    },
    {
     "cell_type": "markdown",
     "metadata": {},
     "source": [
      "---------------\n",
      "\n",
      "## References:\n",
      "\n",
      "https://github.com/HarlanH/spdc-venneuler-julia\n",
      "\n",
      "https://github.com/HarlanH/VennEuler.jl\n",
      "\n",
      "http://www.cs.uic.edu/~wilkinson/Publications/venneuler.pdf\n",
      "\n",
      "http://ab-initio.mit.edu/wiki/index.php/NLopt_Algorithms#Controlled_Random_Search_.28CRS.29_with_local_mutation"
     ]
    },
    {
     "cell_type": "heading",
     "level": 1,
     "metadata": {},
     "source": [
      "Thanks!"
     ]
    }
   ],
   "metadata": {}
  }
 ]
}